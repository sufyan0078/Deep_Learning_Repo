{
 "cells": [
  {
   "cell_type": "code",
   "execution_count": 2,
   "id": "13285d6a",
   "metadata": {},
   "outputs": [],
   "source": [
    "from tensorflow.keras.datasets import imdb\n",
    "(train_data, train_labels), (test_data, test_labels) = imdb.load_data(num_words=10000)"
   ]
  },
  {
   "cell_type": "raw",
   "id": "9eb75637",
   "metadata": {},
   "source": [
    "num_words: max number of words to include. Words are ranked\n",
    "        by how often they occur (in the training set) and only\n",
    "        the most frequent words are kept"
   ]
  },
  {
   "cell_type": "code",
   "execution_count": 3,
   "id": "d7acb33d",
   "metadata": {},
   "outputs": [
    {
     "data": {
      "text/plain": [
       "25000"
      ]
     },
     "execution_count": 3,
     "metadata": {},
     "output_type": "execute_result"
    }
   ],
   "source": [
    "len(train_data)"
   ]
  },
  {
   "cell_type": "code",
   "execution_count": 4,
   "id": "698545ef",
   "metadata": {},
   "outputs": [
    {
     "data": {
      "text/plain": [
       "25000"
      ]
     },
     "execution_count": 4,
     "metadata": {},
     "output_type": "execute_result"
    }
   ],
   "source": [
    "len(train_labels)"
   ]
  },
  {
   "cell_type": "code",
   "execution_count": 5,
   "id": "68e6aaf8",
   "metadata": {},
   "outputs": [
    {
     "data": {
      "text/plain": [
       "25000"
      ]
     },
     "execution_count": 5,
     "metadata": {},
     "output_type": "execute_result"
    }
   ],
   "source": [
    "len(test_data)"
   ]
  },
  {
   "cell_type": "code",
   "execution_count": 6,
   "id": "8dad8e7d",
   "metadata": {},
   "outputs": [
    {
     "data": {
      "text/plain": [
       "25000"
      ]
     },
     "execution_count": 6,
     "metadata": {},
     "output_type": "execute_result"
    }
   ],
   "source": [
    "len(test_labels)"
   ]
  },
  {
   "cell_type": "code",
   "execution_count": 7,
   "id": "99f561c0",
   "metadata": {},
   "outputs": [
    {
     "data": {
      "text/plain": [
       "218"
      ]
     },
     "execution_count": 7,
     "metadata": {},
     "output_type": "execute_result"
    }
   ],
   "source": [
    "len(train_data[0])"
   ]
  },
  {
   "cell_type": "code",
   "execution_count": 77,
   "id": "e8bec9ef",
   "metadata": {},
   "outputs": [
    {
     "data": {
      "text/plain": [
       "[1,\n",
       " 14,\n",
       " 22,\n",
       " 16,\n",
       " 43,\n",
       " 530,\n",
       " 973,\n",
       " 1622,\n",
       " 1385,\n",
       " 65,\n",
       " 458,\n",
       " 4468,\n",
       " 66,\n",
       " 3941,\n",
       " 4,\n",
       " 173,\n",
       " 36,\n",
       " 256,\n",
       " 5,\n",
       " 25,\n",
       " 100,\n",
       " 43,\n",
       " 838,\n",
       " 112,\n",
       " 50,\n",
       " 670,\n",
       " 2,\n",
       " 9,\n",
       " 35,\n",
       " 480,\n",
       " 284,\n",
       " 5,\n",
       " 150,\n",
       " 4,\n",
       " 172,\n",
       " 112,\n",
       " 167,\n",
       " 2,\n",
       " 336,\n",
       " 385,\n",
       " 39,\n",
       " 4,\n",
       " 172,\n",
       " 4536,\n",
       " 1111,\n",
       " 17,\n",
       " 546,\n",
       " 38,\n",
       " 13,\n",
       " 447,\n",
       " 4,\n",
       " 192,\n",
       " 50,\n",
       " 16,\n",
       " 6,\n",
       " 147,\n",
       " 2025,\n",
       " 19,\n",
       " 14,\n",
       " 22,\n",
       " 4,\n",
       " 1920,\n",
       " 4613,\n",
       " 469,\n",
       " 4,\n",
       " 22,\n",
       " 71,\n",
       " 87,\n",
       " 12,\n",
       " 16,\n",
       " 43,\n",
       " 530,\n",
       " 38,\n",
       " 76,\n",
       " 15,\n",
       " 13,\n",
       " 1247,\n",
       " 4,\n",
       " 22,\n",
       " 17,\n",
       " 515,\n",
       " 17,\n",
       " 12,\n",
       " 16,\n",
       " 626,\n",
       " 18,\n",
       " 2,\n",
       " 5,\n",
       " 62,\n",
       " 386,\n",
       " 12,\n",
       " 8,\n",
       " 316,\n",
       " 8,\n",
       " 106,\n",
       " 5,\n",
       " 4,\n",
       " 2223,\n",
       " 5244,\n",
       " 16,\n",
       " 480,\n",
       " 66,\n",
       " 3785,\n",
       " 33,\n",
       " 4,\n",
       " 130,\n",
       " 12,\n",
       " 16,\n",
       " 38,\n",
       " 619,\n",
       " 5,\n",
       " 25,\n",
       " 124,\n",
       " 51,\n",
       " 36,\n",
       " 135,\n",
       " 48,\n",
       " 25,\n",
       " 1415,\n",
       " 33,\n",
       " 6,\n",
       " 22,\n",
       " 12,\n",
       " 215,\n",
       " 28,\n",
       " 77,\n",
       " 52,\n",
       " 5,\n",
       " 14,\n",
       " 407,\n",
       " 16,\n",
       " 82,\n",
       " 2,\n",
       " 8,\n",
       " 4,\n",
       " 107,\n",
       " 117,\n",
       " 5952,\n",
       " 15,\n",
       " 256,\n",
       " 4,\n",
       " 2,\n",
       " 7,\n",
       " 3766,\n",
       " 5,\n",
       " 723,\n",
       " 36,\n",
       " 71,\n",
       " 43,\n",
       " 530,\n",
       " 476,\n",
       " 26,\n",
       " 400,\n",
       " 317,\n",
       " 46,\n",
       " 7,\n",
       " 4,\n",
       " 2,\n",
       " 1029,\n",
       " 13,\n",
       " 104,\n",
       " 88,\n",
       " 4,\n",
       " 381,\n",
       " 15,\n",
       " 297,\n",
       " 98,\n",
       " 32,\n",
       " 2071,\n",
       " 56,\n",
       " 26,\n",
       " 141,\n",
       " 6,\n",
       " 194,\n",
       " 7486,\n",
       " 18,\n",
       " 4,\n",
       " 226,\n",
       " 22,\n",
       " 21,\n",
       " 134,\n",
       " 476,\n",
       " 26,\n",
       " 480,\n",
       " 5,\n",
       " 144,\n",
       " 30,\n",
       " 5535,\n",
       " 18,\n",
       " 51,\n",
       " 36,\n",
       " 28,\n",
       " 224,\n",
       " 92,\n",
       " 25,\n",
       " 104,\n",
       " 4,\n",
       " 226,\n",
       " 65,\n",
       " 16,\n",
       " 38,\n",
       " 1334,\n",
       " 88,\n",
       " 12,\n",
       " 16,\n",
       " 283,\n",
       " 5,\n",
       " 16,\n",
       " 4472,\n",
       " 113,\n",
       " 103,\n",
       " 32,\n",
       " 15,\n",
       " 16,\n",
       " 5345,\n",
       " 19,\n",
       " 178,\n",
       " 32]"
      ]
     },
     "execution_count": 77,
     "metadata": {},
     "output_type": "execute_result"
    }
   ],
   "source": [
    "train_data[0]"
   ]
  },
  {
   "cell_type": "code",
   "execution_count": 9,
   "id": "4b3c5a78",
   "metadata": {},
   "outputs": [],
   "source": [
    "word_index = imdb.get_word_index()\n",
    "reverse_word_index = dict([(value, key) for (key, value) in word_index.items()])\n",
    "decoded_review = ' '.join([reverse_word_index.get(i - 3, '?') for i in train_data[1]])"
   ]
  },
  {
   "cell_type": "code",
   "execution_count": 10,
   "id": "5c5cebbf",
   "metadata": {},
   "outputs": [
    {
     "data": {
      "text/plain": [
       "\"? big hair big boobs bad music and a giant safety pin these are the words to best describe this terrible movie i love cheesy horror movies and i've seen hundreds but this had got to be on of the worst ever made the plot is paper thin and ridiculous the acting is an abomination the script is completely laughable the best is the end showdown with the cop and how he worked out who the killer is it's just so damn terribly written the clothes are sickening and funny in equal ? the hair is big lots of boobs ? men wear those cut ? shirts that show off their ? sickening that men actually wore them and the music is just ? trash that plays over and over again in almost every scene there is trashy music boobs and ? taking away bodies and the gym still doesn't close for ? all joking aside this is a truly bad film whose only charm is to look back on the disaster that was the 80's and have a good old laugh at how bad everything was back then\""
      ]
     },
     "execution_count": 10,
     "metadata": {},
     "output_type": "execute_result"
    }
   ],
   "source": [
    "decoded_review"
   ]
  },
  {
   "cell_type": "code",
   "execution_count": 11,
   "id": "07abd98a",
   "metadata": {},
   "outputs": [
    {
     "data": {
      "text/plain": [
       "0"
      ]
     },
     "execution_count": 11,
     "metadata": {},
     "output_type": "execute_result"
    }
   ],
   "source": [
    "train_labels[1]"
   ]
  },
  {
   "cell_type": "code",
   "execution_count": 12,
   "id": "b8513b12",
   "metadata": {},
   "outputs": [
    {
     "data": {
      "text/plain": [
       "9999"
      ]
     },
     "execution_count": 12,
     "metadata": {},
     "output_type": "execute_result"
    }
   ],
   "source": [
    "max([max(sequence) for sequence in train_data])"
   ]
  },
  {
   "cell_type": "code",
   "execution_count": 15,
   "id": "e25b0fbc",
   "metadata": {},
   "outputs": [],
   "source": [
    "import numpy as np\n",
    "\n",
    "def vectorize_sequences(sequences, dimension=10000):\n",
    "    results = np.zeros((len(sequences), dimension))\n",
    "    for i, sequence in enumerate(sequences):\n",
    "        results[i, sequence] = 1.\n",
    "    return results"
   ]
  },
  {
   "cell_type": "code",
   "execution_count": 16,
   "id": "18aed26c",
   "metadata": {},
   "outputs": [],
   "source": [
    "x_train = vectorize_sequences(train_data)\n",
    "x_test = vectorize_sequences(test_data)"
   ]
  },
  {
   "cell_type": "code",
   "execution_count": 20,
   "id": "77f24271",
   "metadata": {},
   "outputs": [
    {
     "data": {
      "text/plain": [
       "array([0., 1., 1., ..., 0., 0., 0.])"
      ]
     },
     "execution_count": 20,
     "metadata": {},
     "output_type": "execute_result"
    }
   ],
   "source": [
    "x_train[0]# bow >>>> BAG OF WORDS "
   ]
  },
  {
   "cell_type": "code",
   "execution_count": 21,
   "id": "6ba9b97c",
   "metadata": {},
   "outputs": [],
   "source": [
    "y_train = np.asarray(train_labels).astype('float32')\n",
    "y_test = np.asarray(test_labels).astype('float32')"
   ]
  },
  {
   "cell_type": "code",
   "execution_count": 57,
   "id": "8680066d",
   "metadata": {},
   "outputs": [],
   "source": [
    "from tensorflow.keras import models\n",
    "from tensorflow.keras import layers\n",
    "\n",
    "model = models.Sequential()\n",
    "\n",
    "model.add(layers.Dense(16, activation='relu', input_shape=(10000,)))\n",
    "\n",
    "model.add(layers.Dense(16, activation='relu'))\n",
    "\n",
    "model.add(layers.Dense(1, activation='sigmoid'))"
   ]
  },
  {
   "cell_type": "code",
   "execution_count": 58,
   "id": "53251a5e",
   "metadata": {},
   "outputs": [],
   "source": [
    "model.compile(optimizer='rmsprop',loss='binary_crossentropy',\n",
    "metrics=['accuracy'])"
   ]
  },
  {
   "cell_type": "code",
   "execution_count": 59,
   "id": "c4b754e2",
   "metadata": {},
   "outputs": [],
   "source": [
    "x_val = x_train[:10000]\n",
    "partial_x_train = x_train[10000:]\n",
    "\n",
    "y_val = y_train[:10000]\n",
    "partial_y_train = y_train[10000:]"
   ]
  },
  {
   "cell_type": "code",
   "execution_count": 60,
   "id": "9a4a5da8",
   "metadata": {},
   "outputs": [
    {
     "name": "stdout",
     "output_type": "stream",
     "text": [
      "Train on 15000 samples, validate on 10000 samples\n",
      "Epoch 1/20\n",
      "15000/15000 [==============================] - 5s 309us/sample - loss: 0.5055 - accuracy: 0.7909 - val_loss: 0.3769 - val_accuracy: 0.8530\n",
      "Epoch 2/20\n",
      "15000/15000 [==============================] - 2s 156us/sample - loss: 0.2730 - accuracy: 0.9103 - val_loss: 0.2977 - val_accuracy: 0.8809\n",
      "Epoch 3/20\n",
      "15000/15000 [==============================] - 2s 154us/sample - loss: 0.1908 - accuracy: 0.9367 - val_loss: 0.2907 - val_accuracy: 0.8830\n",
      "Epoch 4/20\n",
      "15000/15000 [==============================] - 2s 159us/sample - loss: 0.1458 - accuracy: 0.9520 - val_loss: 0.2870 - val_accuracy: 0.8875\n",
      "Epoch 5/20\n",
      "15000/15000 [==============================] - 2s 156us/sample - loss: 0.1145 - accuracy: 0.9641 - val_loss: 0.3043 - val_accuracy: 0.8863\n",
      "Epoch 6/20\n",
      "15000/15000 [==============================] - 2s 163us/sample - loss: 0.0926 - accuracy: 0.9719 - val_loss: 0.3361 - val_accuracy: 0.8811\n",
      "Epoch 7/20\n",
      "15000/15000 [==============================] - 2s 155us/sample - loss: 0.0721 - accuracy: 0.9792 - val_loss: 0.3598 - val_accuracy: 0.8800\n",
      "Epoch 8/20\n",
      "15000/15000 [==============================] - 2s 158us/sample - loss: 0.0575 - accuracy: 0.9848 - val_loss: 0.3919 - val_accuracy: 0.8771\n",
      "Epoch 9/20\n",
      "15000/15000 [==============================] - 2s 164us/sample - loss: 0.0456 - accuracy: 0.9886 - val_loss: 0.4338 - val_accuracy: 0.8757\n",
      "Epoch 10/20\n",
      "15000/15000 [==============================] - 3s 172us/sample - loss: 0.0334 - accuracy: 0.9927 - val_loss: 0.4685 - val_accuracy: 0.8730\n",
      "Epoch 11/20\n",
      "15000/15000 [==============================] - 2s 149us/sample - loss: 0.0277 - accuracy: 0.9937 - val_loss: 0.5303 - val_accuracy: 0.8700\n",
      "Epoch 12/20\n",
      "15000/15000 [==============================] - 3s 168us/sample - loss: 0.0188 - accuracy: 0.9970 - val_loss: 0.5932 - val_accuracy: 0.8678\n",
      "Epoch 13/20\n",
      "15000/15000 [==============================] - 2s 161us/sample - loss: 0.0153 - accuracy: 0.9975 - val_loss: 0.6074 - val_accuracy: 0.8667\n",
      "Epoch 14/20\n",
      "15000/15000 [==============================] - 2s 155us/sample - loss: 0.0110 - accuracy: 0.9985 - val_loss: 0.6566 - val_accuracy: 0.8644\n",
      "Epoch 15/20\n",
      "15000/15000 [==============================] - 3s 169us/sample - loss: 0.0072 - accuracy: 0.9990 - val_loss: 0.7188 - val_accuracy: 0.8642\n",
      "Epoch 16/20\n",
      "15000/15000 [==============================] - 2s 151us/sample - loss: 0.0042 - accuracy: 0.9997 - val_loss: 0.7812 - val_accuracy: 0.8611\n",
      "Epoch 17/20\n",
      "15000/15000 [==============================] - 2s 154us/sample - loss: 0.0032 - accuracy: 0.9996 - val_loss: 0.8725 - val_accuracy: 0.8616\n",
      "Epoch 18/20\n",
      "15000/15000 [==============================] - 2s 154us/sample - loss: 0.0017 - accuracy: 0.9998 - val_loss: 0.9250 - val_accuracy: 0.8621\n",
      "Epoch 19/20\n",
      "15000/15000 [==============================] - 2s 146us/sample - loss: 0.0019 - accuracy: 0.9995 - val_loss: 0.9845 - val_accuracy: 0.8597\n",
      "Epoch 20/20\n",
      "15000/15000 [==============================] - 2s 147us/sample - loss: 6.9719e-04 - accuracy: 0.9999 - val_loss: 1.0204 - val_accuracy: 0.8601\n"
     ]
    }
   ],
   "source": [
    "history = model.fit(partial_x_train,partial_y_train,epochs=20,batch_size=256,\n",
    "validation_data=(x_val, y_val))"
   ]
  },
  {
   "cell_type": "code",
   "execution_count": 79,
   "id": "e5d72edf",
   "metadata": {},
   "outputs": [
    {
     "data": {
      "text/plain": [
       "dict_keys(['loss', 'accuracy', 'val_loss', 'val_accuracy'])"
      ]
     },
     "execution_count": 79,
     "metadata": {},
     "output_type": "execute_result"
    }
   ],
   "source": [
    "history.history.keys()"
   ]
  },
  {
   "cell_type": "code",
   "execution_count": 62,
   "id": "7e3a716f",
   "metadata": {},
   "outputs": [
    {
     "data": {
      "image/png": "[encoded data removed]",
      "text/plain": [
       "<Figure size 432x288 with 1 Axes>"
      ]
     },
     "metadata": {
      "needs_background": "light"
     },
     "output_type": "display_data"
    }
   ],
   "source": [
    "import matplotlib.pyplot as plt\n",
    "\n",
    "history_dict = history.history\n",
    "loss_values = history_dict['loss']\n",
    "val_loss_values = history_dict['val_loss']\n",
    "epochs = range(1, 21)\n",
    "\n",
    "plt.plot(epochs, loss_values, 'bo', label='Training loss')\n",
    "plt.plot(epochs, val_loss_values, 'b', label='Validation loss')\n",
    "\n",
    "plt.title('Training and validation loss')\n",
    "plt.xlabel('Epochs')\n",
    "plt.ylabel('Loss')\n",
    "plt.legend()\n",
    "plt.show()"
   ]
  },
  {
   "cell_type": "code",
   "execution_count": 69,
   "id": "70b4ed2d",
   "metadata": {},
   "outputs": [
    {
     "data": {
      "image/png": "[encoded data removed]",
      "text/plain": [
       "<Figure size 432x288 with 1 Axes>"
      ]
     },
     "metadata": {
      "needs_background": "light"
     },
     "output_type": "display_data"
    }
   ],
   "source": [
    "plt.clf()\n",
    "acc_values = history_dict['accuracy']\n",
    "val_acc_values = history_dict['val_accuracy']\n",
    "plt.plot(epochs, acc_values, 'bo', label='Training acc')\n",
    "plt.plot(epochs, val_acc_values, 'b', label='Validation acc')\n",
    "plt.title('Training and validation accuracy')\n",
    "plt.xlabel('Epochs')\n",
    "plt.ylabel('Loss')\n",
    "plt.legend()\n",
    "plt.show()"
   ]
  },
  {
   "cell_type": "code",
   "execution_count": 72,
   "id": "3b4e3056",
   "metadata": {},
   "outputs": [
    {
     "data": {
      "text/html": [
       "<div>\n",
       "<style scoped>\n",
       "    .dataframe tbody tr th:only-of-type {\n",
       "        vertical-align: middle;\n",
       "    }\n",
       "\n",
       "    .dataframe tbody tr th {\n",
       "        vertical-align: top;\n",
       "    }\n",
       "\n",
       "    .dataframe thead th {\n",
       "        text-align: right;\n",
       "    }\n",
       "</style>\n",
       "<table border=\"1\" class=\"dataframe\">\n",
       "  <thead>\n",
       "    <tr style=\"text-align: right;\">\n",
       "      <th></th>\n",
       "      <th>loss</th>\n",
       "      <th>accuracy</th>\n",
       "      <th>val_loss</th>\n",
       "      <th>val_accuracy</th>\n",
       "    </tr>\n",
       "  </thead>\n",
       "  <tbody>\n",
       "    <tr>\n",
       "      <td>0</td>\n",
       "      <td>0.505451</td>\n",
       "      <td>0.790933</td>\n",
       "      <td>0.376891</td>\n",
       "      <td>0.8530</td>\n",
       "    </tr>\n",
       "    <tr>\n",
       "      <td>1</td>\n",
       "      <td>0.272992</td>\n",
       "      <td>0.910333</td>\n",
       "      <td>0.297652</td>\n",
       "      <td>0.8809</td>\n",
       "    </tr>\n",
       "    <tr>\n",
       "      <td>2</td>\n",
       "      <td>0.190833</td>\n",
       "      <td>0.936667</td>\n",
       "      <td>0.290666</td>\n",
       "      <td>0.8830</td>\n",
       "    </tr>\n",
       "    <tr>\n",
       "      <td>3</td>\n",
       "      <td>0.145771</td>\n",
       "      <td>0.952000</td>\n",
       "      <td>0.286968</td>\n",
       "      <td>0.8875</td>\n",
       "    </tr>\n",
       "    <tr>\n",
       "      <td>4</td>\n",
       "      <td>0.114502</td>\n",
       "      <td>0.964067</td>\n",
       "      <td>0.304260</td>\n",
       "      <td>0.8863</td>\n",
       "    </tr>\n",
       "    <tr>\n",
       "      <td>5</td>\n",
       "      <td>0.092640</td>\n",
       "      <td>0.971867</td>\n",
       "      <td>0.336073</td>\n",
       "      <td>0.8811</td>\n",
       "    </tr>\n",
       "    <tr>\n",
       "      <td>6</td>\n",
       "      <td>0.072140</td>\n",
       "      <td>0.979200</td>\n",
       "      <td>0.359763</td>\n",
       "      <td>0.8800</td>\n",
       "    </tr>\n",
       "    <tr>\n",
       "      <td>7</td>\n",
       "      <td>0.057509</td>\n",
       "      <td>0.984800</td>\n",
       "      <td>0.391923</td>\n",
       "      <td>0.8771</td>\n",
       "    </tr>\n",
       "    <tr>\n",
       "      <td>8</td>\n",
       "      <td>0.045646</td>\n",
       "      <td>0.988600</td>\n",
       "      <td>0.433789</td>\n",
       "      <td>0.8757</td>\n",
       "    </tr>\n",
       "    <tr>\n",
       "      <td>9</td>\n",
       "      <td>0.033400</td>\n",
       "      <td>0.992733</td>\n",
       "      <td>0.468529</td>\n",
       "      <td>0.8730</td>\n",
       "    </tr>\n",
       "    <tr>\n",
       "      <td>10</td>\n",
       "      <td>0.027699</td>\n",
       "      <td>0.993733</td>\n",
       "      <td>0.530281</td>\n",
       "      <td>0.8700</td>\n",
       "    </tr>\n",
       "    <tr>\n",
       "      <td>11</td>\n",
       "      <td>0.018817</td>\n",
       "      <td>0.997000</td>\n",
       "      <td>0.593176</td>\n",
       "      <td>0.8678</td>\n",
       "    </tr>\n",
       "    <tr>\n",
       "      <td>12</td>\n",
       "      <td>0.015299</td>\n",
       "      <td>0.997467</td>\n",
       "      <td>0.607432</td>\n",
       "      <td>0.8667</td>\n",
       "    </tr>\n",
       "    <tr>\n",
       "      <td>13</td>\n",
       "      <td>0.010991</td>\n",
       "      <td>0.998533</td>\n",
       "      <td>0.656618</td>\n",
       "      <td>0.8644</td>\n",
       "    </tr>\n",
       "    <tr>\n",
       "      <td>14</td>\n",
       "      <td>0.007155</td>\n",
       "      <td>0.999000</td>\n",
       "      <td>0.718831</td>\n",
       "      <td>0.8642</td>\n",
       "    </tr>\n",
       "    <tr>\n",
       "      <td>15</td>\n",
       "      <td>0.004215</td>\n",
       "      <td>0.999667</td>\n",
       "      <td>0.781234</td>\n",
       "      <td>0.8611</td>\n",
       "    </tr>\n",
       "    <tr>\n",
       "      <td>16</td>\n",
       "      <td>0.003197</td>\n",
       "      <td>0.999600</td>\n",
       "      <td>0.872502</td>\n",
       "      <td>0.8616</td>\n",
       "    </tr>\n",
       "    <tr>\n",
       "      <td>17</td>\n",
       "      <td>0.001711</td>\n",
       "      <td>0.999800</td>\n",
       "      <td>0.924953</td>\n",
       "      <td>0.8621</td>\n",
       "    </tr>\n",
       "    <tr>\n",
       "      <td>18</td>\n",
       "      <td>0.001850</td>\n",
       "      <td>0.999533</td>\n",
       "      <td>0.984525</td>\n",
       "      <td>0.8597</td>\n",
       "    </tr>\n",
       "    <tr>\n",
       "      <td>19</td>\n",
       "      <td>0.000697</td>\n",
       "      <td>0.999933</td>\n",
       "      <td>1.020408</td>\n",
       "      <td>0.8601</td>\n",
       "    </tr>\n",
       "  </tbody>\n",
       "</table>\n",
       "</div>"
      ],
      "text/plain": [
       "        loss  accuracy  val_loss  val_accuracy\n",
       "0   0.505451  0.790933  0.376891        0.8530\n",
       "1   0.272992  0.910333  0.297652        0.8809\n",
       "2   0.190833  0.936667  0.290666        0.8830\n",
       "3   0.145771  0.952000  0.286968        0.8875\n",
       "4   0.114502  0.964067  0.304260        0.8863\n",
       "5   0.092640  0.971867  0.336073        0.8811\n",
       "6   0.072140  0.979200  0.359763        0.8800\n",
       "7   0.057509  0.984800  0.391923        0.8771\n",
       "8   0.045646  0.988600  0.433789        0.8757\n",
       "9   0.033400  0.992733  0.468529        0.8730\n",
       "10  0.027699  0.993733  0.530281        0.8700\n",
       "11  0.018817  0.997000  0.593176        0.8678\n",
       "12  0.015299  0.997467  0.607432        0.8667\n",
       "13  0.010991  0.998533  0.656618        0.8644\n",
       "14  0.007155  0.999000  0.718831        0.8642\n",
       "15  0.004215  0.999667  0.781234        0.8611\n",
       "16  0.003197  0.999600  0.872502        0.8616\n",
       "17  0.001711  0.999800  0.924953        0.8621\n",
       "18  0.001850  0.999533  0.984525        0.8597\n",
       "19  0.000697  0.999933  1.020408        0.8601"
      ]
     },
     "execution_count": 72,
     "metadata": {},
     "output_type": "execute_result"
    }
   ],
   "source": [
    "import pandas as pd\n",
    "pd.DataFrame(history.history)"
   ]
  },
  {
   "cell_type": "code",
   "execution_count": 73,
   "id": "972a1abb",
   "metadata": {},
   "outputs": [
    {
     "name": "stdout",
     "output_type": "stream",
     "text": [
      "Train on 25000 samples\n",
      "Epoch 1/4\n",
      "25000/25000 [==============================] - 4s 155us/sample - loss: 0.4443 - accuracy: 0.8264\n",
      "Epoch 2/4\n",
      "25000/25000 [==============================] - 2s 93us/sample - loss: 0.2585 - accuracy: 0.9080\n",
      "Epoch 3/4\n",
      "25000/25000 [==============================] - 2s 97us/sample - loss: 0.2007 - accuracy: 0.9304\n",
      "Epoch 4/4\n",
      "25000/25000 [==============================] - 3s 100us/sample - loss: 0.1688 - accuracy: 0.9402\n",
      "25000/25000 [==============================] - 5s 208us/sample - loss: 0.3066 - accuracy: 0.8791\n"
     ]
    }
   ],
   "source": [
    "model = models.Sequential()\n",
    "model.add(layers.Dense(16, activation='relu', input_shape=(10000,)))\n",
    "model.add(layers.Dense(16, activation='relu'))\n",
    "model.add(layers.Dense(1, activation='sigmoid'))\n",
    "model.compile(optimizer='rmsprop',\n",
    "loss='binary_crossentropy',\n",
    "metrics=['accuracy'])\n",
    "model.fit(x_train, y_train, epochs=4, batch_size=512)\n",
    "\n",
    "\n",
    "results = model.evaluate(x_test, y_test)"
   ]
  },
  {
   "cell_type": "code",
   "execution_count": 74,
   "id": "0e4db716",
   "metadata": {},
   "outputs": [
    {
     "data": {
      "text/plain": [
       "[0.30656753414154053, 0.87908]"
      ]
     },
     "execution_count": 74,
     "metadata": {},
     "output_type": "execute_result"
    }
   ],
   "source": [
    "results"
   ]
  },
  {
   "cell_type": "code",
   "execution_count": 75,
   "id": "56a89c90",
   "metadata": {},
   "outputs": [
    {
     "data": {
      "text/plain": [
       "array([[0.15121734],\n",
       "       [0.9988844 ],\n",
       "       [0.6440181 ],\n",
       "       ...,\n",
       "       [0.09936213],\n",
       "       [0.0573501 ],\n",
       "       [0.45094234]], dtype=float32)"
      ]
     },
     "execution_count": 75,
     "metadata": {},
     "output_type": "execute_result"
    }
   ],
   "source": [
    "model.predict(x_test)"
   ]
  },
  {
   "cell_type": "code",
   "execution_count": 76,
   "id": "1e4bfb5a",
   "metadata": {},
   "outputs": [
    {
     "data": {
      "text/plain": [
       "array([0., 1., 1., ..., 0., 0., 0.])"
      ]
     },
     "execution_count": 76,
     "metadata": {},
     "output_type": "execute_result"
    }
   ],
   "source": [
    "x_test[0]"
   ]
  },
  {
   "cell_type": "code",
   "execution_count": null,
   "id": "8c6c3038",
   "metadata": {},
   "outputs": [],
   "source": []
  }
 ],
 "metadata": {
  "kernelspec": {
   "display_name": "Python 3",
   "language": "python",
   "name": "python3"
  },
  "language_info": {
   "codemirror_mode": {
    "name": "ipython",
    "version": 3
   },
   "file_extension": ".py",
   "mimetype": "text/x-python",
   "name": "python",
   "nbconvert_exporter": "python",
   "pygments_lexer": "ipython3",
   "version": "3.7.4"
  }
 },
 "nbformat": 4,
 "nbformat_minor": 5
}
